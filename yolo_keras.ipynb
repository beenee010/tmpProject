{
  "nbformat": 4,
  "nbformat_minor": 0,
  "metadata": {
    "colab": {
      "name": "yolo-keras.ipynb",
      "provenance": [],
      "mount_file_id": "1S-s_isb212PvgOMTrbEWhv8n9ZSWSQGT",
      "authorship_tag": "ABX9TyPZS9NOaabFaLKjn8GblDST",
      "include_colab_link": true
    },
    "kernelspec": {
      "name": "python3",
      "display_name": "Python 3"
    }
  },
  "cells": [
    {
      "cell_type": "markdown",
      "metadata": {
        "id": "view-in-github",
        "colab_type": "text"
      },
      "source": [
        "<a href=\"https://colab.research.google.com/github/beenee010/tmpProject/blob/master/yolo_keras.ipynb\" target=\"_parent\"><img src=\"https://colab.research.google.com/assets/colab-badge.svg\" alt=\"Open In Colab\"/></a>"
      ]
    },
    {
      "cell_type": "code",
      "metadata": {
        "id": "hFXNO0RUkfYC"
      },
      "source": [
        "# /content/drive/My\\ Drive/keras-YOLOv3-model/\n",
        "%cd 구글드라이브 절대 경로/keras-YOLOv3-model/"
      ],
      "execution_count": null,
      "outputs": []
    },
    {
      "cell_type": "code",
      "metadata": {
        "id": "DhzJDtPhkvjO"
      },
      "source": [
        "!pip install -r requirements.txt"
      ],
      "execution_count": null,
      "outputs": []
    },
    {
      "cell_type": "code",
      "metadata": {
        "id": "ziYHFEKsj-3p"
      },
      "source": [
        "# /content/drive/My\\ Drive/미생 데이터 폴더 경로\n",
        "%cd 구글드라이브 절대 경로/misaeng_data/"
      ],
      "execution_count": null,
      "outputs": []
    },
    {
      "cell_type": "code",
      "metadata": {
        "id": "jKrL-MF6kdPM"
      },
      "source": [
        "# make_file_list.py 경로 수정\n",
        "\n",
        "/content/drive/My\\ Drive/자신의 미생 데이터 경로/"
      ],
      "execution_count": null,
      "outputs": []
    },
    {
      "cell_type": "code",
      "metadata": {
        "id": "_YMQovpmlCa1"
      },
      "source": [
        "# makr_file_list.py 실행\n",
        "!python make_file_list.py"
      ],
      "execution_count": null,
      "outputs": []
    },
    {
      "cell_type": "code",
      "metadata": {
        "id": "fjxTkBc7lMsT"
      },
      "source": [
        "# /content/drive/My\\ Drive/keras-YOLOv3-model/\n",
        "%cd 구글드라이브 절대 경로/keras-YOLOv3-model/"
      ],
      "execution_count": null,
      "outputs": []
    },
    {
      "cell_type": "code",
      "metadata": {
        "id": "3JUpjmoalQVK"
      },
      "source": [
        "# misaeng_annotation.py 경로 수정\n",
        "!python tools/data_conveter/misaeng_annotation.py"
      ],
      "execution_count": null,
      "outputs": []
    },
    {
      "cell_type": "code",
      "metadata": {
        "id": "XWfvAgdcljDy"
      },
      "source": [
        "# weight를 다운받은 후 h5파일 생성"
      ],
      "execution_count": null,
      "outputs": []
    },
    {
      "cell_type": "markdown",
      "metadata": {
        "id": "0_cWCSqfl3Ux"
      },
      "source": [
        "- eval.py 에서 경로를 수정\n",
        "  - 55 line부터\n",
        "\n",
        "```\n",
        "  for line in annotation_lines:\n",
        "        box_records = {}\n",
        "        tmp_name = line.split(' ')[0] + \" \" + line.split(' ')[1]\n",
        "        image_name = tmp_name\n",
        "        # image_name = line.split(' ')[:2]\n",
        "        boxes = line.split(' ')[2:]\n",
        "        for box in boxes:\n",
        "            #strip box coordinate and class\n",
        "            class_name = class_names[int(box.split(',')[-1])]\n",
        "            coordinate = ','.join(box.split(',')[:-1])\n",
        "            box_records[coordinate] = class_name\n",
        "            #append or add ground truth class item\n",
        "            record = [os.path.basename(image_name), coordinate]\n",
        "            if class_name in classes_records:\n",
        "                classes_records[class_name].append(record)\n",
        "            else:\n",
        "                classes_records[class_name] = list([record])\n",
        "        annotation_records[image_name] = box_records\n",
        "```\n",
        "\n",
        "\n",
        "\n",
        "\n",
        "- data.py 수정\n",
        "  - 13 line부터\n",
        "\n",
        "\n",
        "\n",
        "```\n",
        "def get_ground_truth_data(annotation_line, input_shape, augment=True, max_boxes=100):\n",
        "    '''random preprocessing for real-time data augmentation'''\n",
        "    line = annotation_line.split()\n",
        "    path_line = line[0] + \" \" +line[1]\n",
        "    image = Image.open(\"{}\".format(path_line), \"r\")\n",
        "    image_size = image.size\n",
        "    model_input_size = tuple(reversed(input_shape))\n",
        "    boxes = np.array([np.array(list(map(int,box.split(',')))) for box in line[2:]])\n",
        "```\n",
        "\n",
        "\n",
        "\n",
        "## 이렇게 수정할 경우 eval 까지는 가능"
      ]
    },
    {
      "cell_type": "code",
      "metadata": {
        "id": "BGrhuSiylf-v"
      },
      "source": [
        "!python train.py --원하는 옵션 입력(ex 처럼 입력해도 무방)"
      ],
      "execution_count": null,
      "outputs": []
    }
  ]
}